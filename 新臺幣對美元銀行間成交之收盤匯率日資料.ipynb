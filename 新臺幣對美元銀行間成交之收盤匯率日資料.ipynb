{
 "cells": [
  {
   "cell_type": "markdown",
   "metadata": {},
   "source": [
    "# Import package"
   ]
  },
  {
   "cell_type": "code",
   "execution_count": 1,
   "metadata": {},
   "outputs": [],
   "source": [
    "import threading\n",
    "from queue import Queue\n",
    "\n",
    "from bs4 import BeautifulSoup\n",
    "import pandas as pd\n",
    "import requests"
   ]
  },
  {
   "cell_type": "markdown",
   "metadata": {},
   "source": [
    "# Get Page Content"
   ]
  },
  {
   "cell_type": "code",
   "execution_count": 2,
   "metadata": {},
   "outputs": [],
   "source": [
    "def get_page(url):\n",
    "    content = requests.get(url).text    \n",
    "    soup = BeautifulSoup(content, \"html.parser\")\n",
    "    \n",
    "    return soup"
   ]
  },
  {
   "cell_type": "markdown",
   "metadata": {},
   "source": [
    "# Crawl the page by giving url"
   ]
  },
  {
   "cell_type": "code",
   "execution_count": 3,
   "metadata": {},
   "outputs": [],
   "source": [
    "def crawler_job(url, q):\n",
    "    US_exchange_rate_data = {}\n",
    "    try:\n",
    "        annual_page_content = get_page(url)\n",
    "        row_data = annual_page_content.find(class_='text12').find_all('tr')[1:]\n",
    "        for row in row_data:\n",
    "            date, NTD_USD = [r.text for r in row.find_all('td')]\n",
    "            US_exchange_rate_data[date] = NTD_USD\n",
    "    except AttributeError:\n",
    "        print(url)\n",
    "        print('Error')\n",
    "\n",
    "    q.put(US_exchange_rate_data)\n",
    "    print(url, 'finish')"
   ]
  },
  {
   "cell_type": "markdown",
   "metadata": {},
   "source": [
    "# Start Crawl"
   ]
  },
  {
   "cell_type": "code",
   "execution_count": 4,
   "metadata": {
    "scrolled": false
   },
   "outputs": [
    {
     "name": "stdout",
     "output_type": "stream",
     "text": [
      "https://www.cbc.gov.tw/ct.asp?xItem=2284&ctNode=382&mp=1\n",
      "Error\n",
      "https://www.cbc.gov.tw/ct.asp?xItem=2284&ctNode=382&mp=1 finish\n",
      "https://www.cbc.gov.tw/ct.asp?xItem=63271&ctNode=382&mp=1 finish\n",
      "https://www.cbc.gov.tw/ct.asp?xItem=37995&ctNode=382&mp=1 finish\n",
      "https://www.cbc.gov.tw/ct.asp?xItem=33461&ctNode=382&mp=1 finish\n",
      "https://www.cbc.gov.tw/ct.asp?xItem=79504&ctNode=382&mp=1 finish\n",
      "https://www.cbc.gov.tw/ct.asp?xItem=41677&ctNode=382&mp=1 finish\n",
      "https://www.cbc.gov.tw/ct.asp?xItem=2287&ctNode=382&mp=1 finish\n",
      "https://www.cbc.gov.tw/ct.asp?xItem=37993&ctNode=382&mp=1 finish\n",
      "https://www.cbc.gov.tw/ct.asp?xItem=43548&ctNode=382&mp=1 finish\n",
      "https://www.cbc.gov.tw/ct.asp?xItem=39919&ctNode=382&mp=1 finish\n",
      "https://www.cbc.gov.tw/ct.asp?xItem=58589&ctNode=382&mp=1https://www.cbc.gov.tw/ct.asp?xItem=52733&ctNode=382&mp=1 finish\n",
      " finish\n",
      "https://www.cbc.gov.tw/ct.asp?xItem=45403&ctNode=382&mp=1 finish\n",
      "https://www.cbc.gov.tw/ct.asp?xItem=2285&ctNode=382&mp=1 finish\n",
      "https://www.cbc.gov.tw/ct.asp?xItem=2286&ctNode=382&mp=1 finish\n",
      "Done\n"
     ]
    }
   ],
   "source": [
    "BASE_URL = 'https://www.cbc.gov.tw/'\n",
    "US_exchange_rate_data = dict()\n",
    "\n",
    "page_content = get_page('https://www.cbc.gov.tw/lp.asp?ctNode=382&CtUnit=128&BaseDSD=7')\n",
    "annual_page_link = page_content.find(class_='list').find_all('a')\n",
    "annual_page_link = ['{}{}'.format(BASE_URL, annual_link.get('href')) for annual_link in annual_page_link]\n",
    "\n",
    "threads = []\n",
    "q = Queue()\n",
    "for url in annual_page_link:\n",
    "    t = threading.Thread(target=crawler_job, args=(url, q))\n",
    "    t.start()\n",
    "    threads.append(t)\n",
    "\n",
    "for thread in threads:\n",
    "    thread.join()\n",
    "\n",
    "print('Done')\n",
    "for _ in range(len(annual_page_link)):\n",
    "    US_exchange_rate_data.update(q.get())"
   ]
  },
  {
   "cell_type": "markdown",
   "metadata": {},
   "source": [
    "# Output CSV"
   ]
  },
  {
   "cell_type": "code",
   "execution_count": 5,
   "metadata": {},
   "outputs": [
    {
     "ename": "TypeError",
     "evalue": "'bool' object is not iterable",
     "output_type": "error",
     "traceback": [
      "\u001b[0;31m---------------------------------------------------------------------------\u001b[0m",
      "\u001b[0;31mTypeError\u001b[0m                                 Traceback (most recent call last)",
      "\u001b[0;32m<ipython-input-5-6bbc80d81468>\u001b[0m in \u001b[0;36m<module>\u001b[0;34m\u001b[0m\n\u001b[0;32m----> 1\u001b[0;31m \u001b[0mpd\u001b[0m\u001b[0;34m.\u001b[0m\u001b[0mDataFrame\u001b[0m\u001b[0;34m.\u001b[0m\u001b[0mfrom_dict\u001b[0m\u001b[0;34m(\u001b[0m\u001b[0mUS_exchange_rate_data\u001b[0m\u001b[0;34m,\u001b[0m \u001b[0morient\u001b[0m\u001b[0;34m=\u001b[0m\u001b[0;34m'index'\u001b[0m\u001b[0;34m)\u001b[0m\u001b[0;34m.\u001b[0m\u001b[0mto_csv\u001b[0m\u001b[0;34m(\u001b[0m\u001b[0;34m'data.csv'\u001b[0m\u001b[0;34m,\u001b[0m \u001b[0mcolumns\u001b[0m\u001b[0;34m=\u001b[0m\u001b[0;32mFalse\u001b[0m\u001b[0;34m)\u001b[0m\u001b[0;34m\u001b[0m\u001b[0m\n\u001b[0m",
      "\u001b[0;32m~/miniconda3/lib/python3.6/site-packages/pandas/core/frame.py\u001b[0m in \u001b[0;36mto_csv\u001b[0;34m(self, path_or_buf, sep, na_rep, float_format, columns, header, index, index_label, mode, encoding, compression, quoting, quotechar, line_terminator, chunksize, tupleize_cols, date_format, doublequote, escapechar, decimal)\u001b[0m\n\u001b[1;32m   1742\u001b[0m                                  \u001b[0mdate_format\u001b[0m\u001b[0;34m=\u001b[0m\u001b[0mdate_format\u001b[0m\u001b[0;34m,\u001b[0m\u001b[0;34m\u001b[0m\u001b[0m\n\u001b[1;32m   1743\u001b[0m                                  \u001b[0mdoublequote\u001b[0m\u001b[0;34m=\u001b[0m\u001b[0mdoublequote\u001b[0m\u001b[0;34m,\u001b[0m\u001b[0;34m\u001b[0m\u001b[0m\n\u001b[0;32m-> 1744\u001b[0;31m                                  escapechar=escapechar, decimal=decimal)\n\u001b[0m\u001b[1;32m   1745\u001b[0m         \u001b[0mformatter\u001b[0m\u001b[0;34m.\u001b[0m\u001b[0msave\u001b[0m\u001b[0;34m(\u001b[0m\u001b[0;34m)\u001b[0m\u001b[0;34m\u001b[0m\u001b[0m\n\u001b[1;32m   1746\u001b[0m \u001b[0;34m\u001b[0m\u001b[0m\n",
      "\u001b[0;32m~/miniconda3/lib/python3.6/site-packages/pandas/io/formats/csvs.py\u001b[0m in \u001b[0;36m__init__\u001b[0;34m(self, obj, path_or_buf, sep, na_rep, float_format, cols, header, index, index_label, mode, nanRep, encoding, compression, quoting, line_terminator, chunksize, tupleize_cols, quotechar, date_format, doublequote, escapechar, decimal)\u001b[0m\n\u001b[1;32m     85\u001b[0m                                             quoting=self.quoting)\n\u001b[1;32m     86\u001b[0m             \u001b[0;32melse\u001b[0m\u001b[0;34m:\u001b[0m\u001b[0;34m\u001b[0m\u001b[0m\n\u001b[0;32m---> 87\u001b[0;31m                 \u001b[0mcols\u001b[0m \u001b[0;34m=\u001b[0m \u001b[0mlist\u001b[0m\u001b[0;34m(\u001b[0m\u001b[0mcols\u001b[0m\u001b[0;34m)\u001b[0m\u001b[0;34m\u001b[0m\u001b[0m\n\u001b[0m\u001b[1;32m     88\u001b[0m             \u001b[0mself\u001b[0m\u001b[0;34m.\u001b[0m\u001b[0mobj\u001b[0m \u001b[0;34m=\u001b[0m \u001b[0mself\u001b[0m\u001b[0;34m.\u001b[0m\u001b[0mobj\u001b[0m\u001b[0;34m.\u001b[0m\u001b[0mloc\u001b[0m\u001b[0;34m[\u001b[0m\u001b[0;34m:\u001b[0m\u001b[0;34m,\u001b[0m \u001b[0mcols\u001b[0m\u001b[0;34m]\u001b[0m\u001b[0;34m\u001b[0m\u001b[0m\n\u001b[1;32m     89\u001b[0m \u001b[0;34m\u001b[0m\u001b[0m\n",
      "\u001b[0;31mTypeError\u001b[0m: 'bool' object is not iterable"
     ]
    }
   ],
   "source": [
    "pd.DataFrame.from_dict(US_exchange_rate_data, orient='index').to_csv('data.csv')"
   ]
  },
  {
   "cell_type": "code",
   "execution_count": null,
   "metadata": {},
   "outputs": [],
   "source": []
  }
 ],
 "metadata": {
  "kernelspec": {
   "display_name": "Python 3",
   "language": "python",
   "name": "python3"
  },
  "language_info": {
   "codemirror_mode": {
    "name": "ipython",
    "version": 3
   },
   "file_extension": ".py",
   "mimetype": "text/x-python",
   "name": "python",
   "nbconvert_exporter": "python",
   "pygments_lexer": "ipython3",
   "version": "3.6.5"
  }
 },
 "nbformat": 4,
 "nbformat_minor": 2
}
